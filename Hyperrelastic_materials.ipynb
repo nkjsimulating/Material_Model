{
 "cells": [
  {
   "cell_type": "markdown",
   "metadata": {},
   "source": [
    "# Constitutive Model: Hyperelastic Material\n"
   ]
  },
  {
   "cell_type": "markdown",
   "metadata": {},
   "source": [
    "Dr. Niraj Kumar Jha\n",
    "nirajkumar.jha@outlook.com"
   ]
  },
  {
   "cell_type": "code",
   "execution_count": null,
   "metadata": {},
   "outputs": [],
   "source": [
    "import numpy as np\n",
    "from pylab import *\n",
    "import scipy.optimize\n",
    "import pylab \n",
    "import matplotlib.pyplot as plt\n"
   ]
  },
  {
   "cell_type": "code",
   "execution_count": null,
   "metadata": {},
   "outputs": [],
   "source": [
    "\"\"\"Neo-Hookean. 3D loading specified by stretches. param[0]=mu, param[1]=kappa\"\"\"\n",
    "def NH_3D(stretch, param):\n",
    "    L1 = stretch[0]\n",
    "    L2 = stretch[1]\n",
    "    L3 = stretch[2]\n",
    "    F = array([[L1,0,0], [0,L2,0], [0,0,L3]])\n",
    "    J = det(F)\n",
    "    Fstar = J**(-1/3) * F\n",
    "    bstar = dot(Fstar, Fstar.T)\n",
    "    dev_bstar = bstar - trace(bstar)/3 * eye(3)\n",
    "    Stress = param[0]/J * dev_bstar + param[1]*(J-1) * eye(3)\n",
    "    return Stress "
   ]
  },
  {
   "cell_type": "code",
   "execution_count": null,
   "metadata": {},
   "outputs": [],
   "source": [
    "\"\"\"Mooney-Rivlin. 3D loading specified by stretches. param: [C10, C01, kappa]\"\"\"\n",
    "def MR_3D(stretch, param):\n",
    "    L1 = stretch[0]\n",
    "    L2 = stretch[1]\n",
    "    L3 = stretch[2]\n",
    "    F = array([[L1,0,0], [0,L2,0], [0,0,L3]])\n",
    "    J = det(F)\n",
    "    bstar = J**(-2.0/3.0) * dot(F, F.T)\n",
    "    bstar2 = dot(bstar, bstar)\n",
    "    I1s = trace(bstar)\n",
    "    I2s = 0.5 * (I1s**2 - trace(bstar2))\n",
    "    C10 = param[0]\n",
    "    C01 = param[1]\n",
    "    kappa = param[2]\n",
    "    Stress = 2/J*(C10+C01*I1s)*bstar - 2*C01/J*bstar2 + \\\n",
    "        (kappa*(J-1) - 2*I1s*C10/(3*J) - 4*I2s*C01/(3*J))*eye(3)\n",
    "    return Stress"
   ]
  },
  {
   "cell_type": "code",
   "execution_count": null,
   "metadata": {},
   "outputs": [],
   "source": [
    "\"\"\"Yeoh. 3D loading specified by stretches. param: [C10, C20, C30, kappa]. Returns true stress.\"\"\"\n",
    "def Yeoh_3D(stretch, param):\n",
    "    L1 = stretch[0]\n",
    "    L2 = stretch[1]\n",
    "    L3 = stretch[2]\n",
    "    F = array([[L1,0,0], [0,L2,0], [0,0,L3]])\n",
    "    J = det(F)\n",
    "    bstar = J**(-2.0/3.0) * dot(F, F.T)\n",
    "    devbstar = bstar - trace(bstar)/3 * eye(3)\n",
    "    I1s = trace(bstar)\n",
    "    Stress = 2/J*(param[0] + 2*param[1]*(I1s-3) + 3*param[2]*(I1s-3)**2)*devbstar \\\n",
    "        + param[3]*(J-1) * eye(3)\n",
    "    return Stress"
   ]
  },
  {
   "cell_type": "code",
   "execution_count": null,
   "metadata": {},
   "outputs": [],
   "source": [
    "\"\"\"Ogden model. 3D loading specified by stretches. param: [mu1, mu2, ..., alpha1, alpha2, kappa]. Returns true stress.\"\"\"\n",
    "def Ogden_3D(stretch, param):\n",
    "    L1 = stretch[0]\n",
    "    L2 = stretch[1]\n",
    "    L3 = stretch[2]  \n",
    "    F = array([[L1,0,0], [0,L2,0], [0,0,L3]])\n",
    "    J = L1*L2*L3\n",
    "    lam = stretch/(J**(1/3))\n",
    "    N = round((len(param)-1)/2)\n",
    "    mu = param[0:N]\n",
    "    alpha = param[N:2*N]\n",
    "    kappa = param[-1]\n",
    "    Stress = kappa*(J-1)*eye(3)\n",
    "    for i in range(N):\n",
    "        fac = (2/J) * mu[i] / alpha[i]\n",
    "        tmp = (lam[0]**alpha[i] + lam[1]**alpha[i] + lam[2]**alpha[i]) / 3\n",
    "        Stress[0,0] = Stress[0,0] + fac * (lam[0]**alpha[i] - tmp)\n",
    "        Stress[1,1] = Stress[1,1] + fac * (lam[1]**alpha[i] - tmp)\n",
    "        Stress[2,2] = Stress[2,2] + fac * (lam[2]**alpha[i] - tmp)\n",
    "    return Stress"
   ]
  },
  {
   "cell_type": "code",
   "execution_count": null,
   "metadata": {},
   "outputs": [],
   "source": [
    " # Uniaxial stretch = [lam, lam^0.5, lam^0.5]  \n",
    "\n",
    "lam = np.arange (1, 8.1, 0.1)\n",
    "Stress_NH = zeros(len(lam))\n",
    "Stress_MR = zeros(len(lam))\n",
    "Stress_YH = zeros(len(lam))\n",
    "Stress_OG = zeros(len(lam))\n",
    "\n",
    "for i in range(len(lam)):\n",
    "    stretch = [lam[i], 1/np.sqrt(lam[i]), 1/np.sqrt(lam[i])]\n",
    "    param_NH = [0.4, 100]\n",
    "    param_MR = [0.39, 0.015, 100]\n",
    "    param_YH = [0.4, 0.00004, 0.00004, 100]\n",
    "    param_OG = [0.62, 0.00118, -0.00981, 1.3, 5, 2, 100]    \n",
    "    Stress_NH[i] = NH_3D(stretch, param_NH)[0,0] #tension component\n",
    "    Stress_MR[i] = MR_3D(stretch, param_MR)[0,0] #tension component\n",
    "    Stress_YH[i] = Yeoh_3D(stretch, param_YH)[0,0] #tension component\n",
    "    Stress_OG[i] = Ogden_3D(stretch, param_OG)[0,0] #tension component    \n",
    "    \n",
    "plt.plot(lam, Stress_NH,color='green', linestyle='dashed', linewidth=2, markersize=12, label='neo-Hookean')\n",
    "plt.plot(lam, Stress_MR,color='red', linestyle='dashed', linewidth=2, markersize=12, label='Mooney-Rivlin')\n",
    "plt.plot(lam, Stress_YH,color='magenta', linestyle='dotted', linewidth=2, markersize=12, label='Yeoh')\n",
    "plt.plot(lam, Stress_OG,color='black', linestyle='solid', linewidth=2, markersize=12, label='Ogden')\n",
    "plt.xlabel('Stretch')\n",
    "plt.ylabel('Stress')\n",
    "plt.title('Uniaxial Experiment')\n",
    "plt.legend()\n",
    "plt.show()\n",
    "\n",
    " # Biaxial stretch = [lam, lam, 1/(lam)^2]  \n",
    "for i in range(len(lam)):\n",
    "    stretch = [lam[i], lam[i], 1/(lam[i]*lam[i])]\n",
    "    param_NH = [0.4, 100]\n",
    "    param_MR = [0.39, 0.015, 100]\n",
    "    param_YH = [0.4, 0.00004, 0.00004, 100]\n",
    "    param_OG = [0.62, 0.0118, -0.00981, 1.3, 5, -2, 100]    \n",
    "    Stress_NH[i] = NH_3D(stretch, param_NH)[0,0] #tension component\n",
    "    Stress_MR[i] = MR_3D(stretch, param_MR)[0,0] #tension component\n",
    "    Stress_YH[i] = Yeoh_3D(stretch, param_YH)[0,0] #tension component\n",
    "    Stress_OG[i] = Ogden_3D(stretch, param_OG)[0,0] #tension component    \n",
    "\n",
    "\n",
    "plt.plot(lam, Stress_NH,color='green', linestyle='dashed', linewidth=2, markersize=12, label='neo-Hookean')\n",
    "plt.plot(lam, Stress_MR,color='red', linestyle='dashed', linewidth=2, markersize=12, label='Mooney-Rivlin')\n",
    "plt.plot(lam, Stress_YH,color='magenta', linestyle='dotted', linewidth=2, markersize=12, label='Yeoh')\n",
    "plt.plot(lam, Stress_OG,color='black', linestyle='solid', linewidth=2, markersize=12, label='Ogden')\n",
    "plt.xlabel('Stretch')\n",
    "plt.ylabel('Stress')\n",
    "plt.title('Biaxial Experiment')\n",
    "plt.legend()\n",
    "plt.show()\n",
    "\n",
    " # Pure shear stretch = [lam, 1, 1/(lam)]  \n",
    "for i in range(len(lam)):\n",
    "    stretch = [lam[i], 1, 1/(lam[i])]\n",
    "    param_NH = [0.4, 100]\n",
    "    param_MR = [0.39, 0.015, 100]\n",
    "    param_YH = [0.4, 0.00004, 0.00004, 100]\n",
    "    param_OG = [0.62, 0.0118, -0.00981, 1.3, 5, -2, 100]    \n",
    "    Stress_NH[i] = NH_3D(stretch, param_NH)[0,0] #tension component\n",
    "    Stress_MR[i] = MR_3D(stretch, param_MR)[0,0] #tension component\n",
    "    Stress_YH[i] = Yeoh_3D(stretch, param_YH)[0,0] #tension component\n",
    "    Stress_OG[i] = Ogden_3D(stretch, param_OG)[0,0] #tension component    \n",
    "    \n",
    "plt.plot(lam, Stress_NH,color='green', linestyle='dashed', linewidth=2, markersize=12, label='neo-Hookean')\n",
    "plt.plot(lam, Stress_MR,color='red', linestyle='dashed', linewidth=2, markersize=12, label='Mooney-Rivlin')\n",
    "plt.plot(lam, Stress_YH,color='magenta', linestyle='dotted', linewidth=2, markersize=12, label='Yeoh')\n",
    "plt.plot(lam, Stress_OG,color='black', linestyle='solid', linewidth=2, markersize=12, label='Ogden')\n",
    "plt.xlabel('Stretch')\n",
    "plt.ylabel('Stress')\n",
    "plt.title('Pure Shear Experiment')\n",
    "plt.legend()\n",
    "plt.show()"
   ]
  }
 ],
 "metadata": {
  "kernelspec": {
   "display_name": "Python 3",
   "language": "python",
   "name": "python3"
  },
  "language_info": {
   "codemirror_mode": {
    "name": "ipython",
    "version": 3
   },
   "file_extension": ".py",
   "mimetype": "text/x-python",
   "name": "python",
   "nbconvert_exporter": "python",
   "pygments_lexer": "ipython3",
   "version": "3.7.7"
  }
 },
 "nbformat": 4,
 "nbformat_minor": 4
}
